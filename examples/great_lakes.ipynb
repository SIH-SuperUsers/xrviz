{
 "cells": [
  {
   "cell_type": "code",
   "execution_count": null,
   "metadata": {},
   "outputs": [],
   "source": [
    "import xarray as xr\n",
    "from xrviz.dashboard import Dashboard\n",
    "import logging, sys \n",
    "logging.disable(sys.maxsize)"
   ]
  },
  {
   "cell_type": "code",
   "execution_count": null,
   "metadata": {},
   "outputs": [],
   "source": [
    "# open remote data with xarray\n",
    "url = 'http://opendap.co-ops.nos.noaa.gov/thredds/dodsC/NOAA/LOOFS/MODELS/201907/glofs.loofs.fields.forecast.20190720.t06z.nc'\n",
    "data = xr.open_dataset(url)"
   ]
  },
  {
   "cell_type": "code",
   "execution_count": null,
   "metadata": {},
   "outputs": [],
   "source": [
    "initial_params = {\n",
    "                  # Select Variable\n",
    "                    'Variables': 'temp',   \n",
    "\n",
    "                  # Add Coords to list\n",
    "                    'Set Coords': ['lon', 'lat'], \n",
    "\n",
    "                  # Select Axes\n",
    "                    'x': 'lon', \n",
    "                    'y': 'lat',   \n",
    "\n",
    "                  # Style\n",
    "                    'height': 300, \n",
    "                    'width': 650, \n",
    "                    'colorbar': True,\n",
    "                    'cmap': 'Viridis', \n",
    "                      \n",
    "                  # Projection\n",
    "                    'is_geo': True,\n",
    "                    'basemap': 'OSM'\n",
    "                  }"
   ]
  },
  {
   "cell_type": "code",
   "execution_count": null,
   "metadata": {},
   "outputs": [],
   "source": [
    "dash = Dashboard(data, initial_params=initial_params)\n",
    "dash.panel.servable()"
   ]
  }
 ],
 "metadata": {
  "kernelspec": {
   "display_name": "Python 3",
   "language": "python",
   "name": "python3"
  },
  "language_info": {
   "codemirror_mode": {
    "name": "ipython",
    "version": 3
   },
   "file_extension": ".py",
   "mimetype": "text/x-python",
   "name": "python",
   "nbconvert_exporter": "python",
   "pygments_lexer": "ipython3",
   "version": "3.7.3"
  }
 },
 "nbformat": 4,
 "nbformat_minor": 4
}
